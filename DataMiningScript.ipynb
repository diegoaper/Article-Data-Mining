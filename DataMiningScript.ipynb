{
 "cells": [
  {
   "cell_type": "code",
   "execution_count": 1,
   "id": "c50294df-f193-4203-b12d-6702a7d30a91",
   "metadata": {},
   "outputs": [
    {
     "name": "stderr",
     "output_type": "stream",
     "text": [
      "2022-08-17 10:31:21 CMI-RSCH-MBP058 metapub.config[73534] WARNING NCBI_API_KEY was not set.\n",
      "2022-08-17 10:31:23 CMI-RSCH-MBP058 elsapy.elsclient[73534] INFO Module loaded.\n",
      "2022-08-17 10:31:23 CMI-RSCH-MBP058 elsapy.elsentity[73534] INFO Module loaded.\n",
      "2022-08-17 10:31:23 CMI-RSCH-MBP058 elsapy.utils[73534] INFO Module loaded.\n",
      "2022-08-17 10:31:23 CMI-RSCH-MBP058 elsapy.elsprofile[73534] INFO Module loaded.\n",
      "2022-08-17 10:31:23 CMI-RSCH-MBP058 elsapy.elsdoc[73534] INFO Module loaded.\n",
      "2022-08-17 10:31:23 CMI-RSCH-MBP058 elsapy.elssearch[73534] INFO Module loaded.\n"
     ]
    }
   ],
   "source": [
    "import metapub\n",
    "import pandas as pd\n",
    "import os\n",
    "import numpy as np\n",
    "import re\n",
    "from metapub import PubMedFetcher\n",
    "from metapub import CrossRefFetcher\n",
    "from elsapy.elsclient import ElsClient\n",
    "from elsapy.elsprofile import ElsAuthor, ElsAffil\n",
    "from elsapy.elsdoc import FullDoc, AbsDoc\n",
    "from elsapy.elssearch import ElsSearch\n",
    "import json\n",
    "pd.options.mode.chained_assignment = None\n",
    "os.chdir('/Users/diego.perez/Projects/ABIDE_Cross_Ref/')"
   ]
  },
  {
   "cell_type": "code",
   "execution_count": 3,
   "id": "ee40b38e-6e9e-4e6b-b6e7-e45ddff8551d",
   "metadata": {},
   "outputs": [],
   "source": [
    "data = pd.read_excel('Consensus_ICC_Code.xlsx').fillna(0)\n",
    "title = np.array(data['Title'])\n",
    "pmids = np.array(data['Medline_PMID'])\n",
    "np.nan_to_num(title)\n",
    "cr = CrossRefFetcher()\n",
    "PM = PubMedFetcher()"
   ]
  },
  {
   "cell_type": "code",
   "execution_count": 4,
   "id": "fff3346b-c96d-445a-8293-c3ccb0e9a322",
   "metadata": {},
   "outputs": [],
   "source": [
    "con_file = open(\"config.json\")\n",
    "config = json.load(con_file)\n",
    "con_file.close()\n",
    "client = ElsClient(config['apikey'])"
   ]
  },
  {
   "cell_type": "code",
   "execution_count": 5,
   "id": "5a28a31b-7735-4969-8328-5b0447fe64ff",
   "metadata": {},
   "outputs": [
    {
     "name": "stdout",
     "output_type": "stream",
     "text": [
      "0\n",
      "Yes CR trying PM\n",
      "PM Works\n",
      "1\n"
     ]
    },
    {
     "name": "stderr",
     "output_type": "stream",
     "text": [
      "2022-08-17 10:31:56 CMI-RSCH-MBP058 elsapy.elsclient[73534] INFO Sending GET request to https://api.elsevier.com/content/article/doi/10.3233/shti220395\n"
     ]
    },
    {
     "name": "stdout",
     "output_type": "stream",
     "text": [
      "Yes CR trying PM\n"
     ]
    },
    {
     "name": "stderr",
     "output_type": "stream",
     "text": [
      "2022-08-17 10:31:56 CMI-RSCH-MBP058 elsapy.elsentity[73534] WARNING HTTP 404 Error from https://api.elsevier.com/content/article/doi/10.3233/shti220395\n",
      "and using headers {'X-ELS-APIKey': '1bb51d25ede064f38c932a4b2c6f53f5', 'User-Agent': 'elsapy-v0.5.0', 'Accept': 'application/json'}:\n",
      "{\"service-error\":{\"status\":{\"statusCode\":\"RESOURCE_NOT_FOUND\",\"statusText\":\"The resource specified cannot be found.\"}}}\n"
     ]
    },
    {
     "name": "stdout",
     "output_type": "stream",
     "text": [
      "Could not find 2\n",
      "2\n",
      "Yes CR trying PM\n",
      "PM Works\n",
      "3\n",
      "Yes CR trying PM\n",
      "PM Works\n",
      "4\n"
     ]
    },
    {
     "name": "stderr",
     "output_type": "stream",
     "text": [
      "2022-08-17 10:32:06 CMI-RSCH-MBP058 elsapy.elsclient[73534] INFO Sending GET request to https://api.elsevier.com/content/article/doi/10.1101/2022.03.11.483983\n"
     ]
    },
    {
     "name": "stdout",
     "output_type": "stream",
     "text": [
      "Yes CR trying PM\n"
     ]
    },
    {
     "name": "stderr",
     "output_type": "stream",
     "text": [
      "2022-08-17 10:32:06 CMI-RSCH-MBP058 elsapy.elsentity[73534] WARNING HTTP 404 Error from https://api.elsevier.com/content/article/doi/10.1101/2022.03.11.483983\n",
      "and using headers {'X-ELS-APIKey': '1bb51d25ede064f38c932a4b2c6f53f5', 'User-Agent': 'elsapy-v0.5.0', 'Accept': 'application/json'}:\n",
      "{\"service-error\":{\"status\":{\"statusCode\":\"RESOURCE_NOT_FOUND\",\"statusText\":\"The resource specified cannot be found.\"}}}\n"
     ]
    },
    {
     "name": "stdout",
     "output_type": "stream",
     "text": [
      "Could not find 2\n",
      "5\n"
     ]
    },
    {
     "name": "stderr",
     "output_type": "stream",
     "text": [
      "2022-08-17 10:32:10 CMI-RSCH-MBP058 elsapy.elsclient[73534] INFO Sending GET request to https://api.elsevier.com/content/article/doi/10.1109/tnnls.2022.3154755\n"
     ]
    },
    {
     "name": "stdout",
     "output_type": "stream",
     "text": [
      "Yes CR trying PM\n"
     ]
    },
    {
     "name": "stderr",
     "output_type": "stream",
     "text": [
      "2022-08-17 10:32:11 CMI-RSCH-MBP058 elsapy.elsentity[73534] WARNING HTTP 404 Error from https://api.elsevier.com/content/article/doi/10.1109/tnnls.2022.3154755\n",
      "and using headers {'X-ELS-APIKey': '1bb51d25ede064f38c932a4b2c6f53f5', 'User-Agent': 'elsapy-v0.5.0', 'Accept': 'application/json'}:\n",
      "{\"service-error\":{\"status\":{\"statusCode\":\"RESOURCE_NOT_FOUND\",\"statusText\":\"The resource specified cannot be found.\"}}}\n"
     ]
    },
    {
     "name": "stdout",
     "output_type": "stream",
     "text": [
      "Could not find 2\n",
      "6\n",
      "Yes CR trying PM\n",
      "PM Works\n",
      "7\n",
      "Yes CR trying PM\n",
      "PM Works\n",
      "8\n",
      "Yes CR trying PM\n",
      "PM Works\n",
      "9\n",
      "Yes CR trying PM\n",
      "PM Works\n",
      "10\n"
     ]
    },
    {
     "name": "stderr",
     "output_type": "stream",
     "text": [
      "2022-08-17 10:32:22 CMI-RSCH-MBP058 elsapy.elsclient[73534] INFO Sending GET request to https://api.elsevier.com/content/article/doi/10.1101/2022.01.09.22268936\n"
     ]
    },
    {
     "name": "stdout",
     "output_type": "stream",
     "text": [
      "Yes CR trying PM\n"
     ]
    },
    {
     "name": "stderr",
     "output_type": "stream",
     "text": [
      "2022-08-17 10:32:23 CMI-RSCH-MBP058 elsapy.elsentity[73534] WARNING HTTP 404 Error from https://api.elsevier.com/content/article/doi/10.1101/2022.01.09.22268936\n",
      "and using headers {'X-ELS-APIKey': '1bb51d25ede064f38c932a4b2c6f53f5', 'User-Agent': 'elsapy-v0.5.0', 'Accept': 'application/json'}:\n",
      "{\"service-error\":{\"status\":{\"statusCode\":\"RESOURCE_NOT_FOUND\",\"statusText\":\"The resource specified cannot be found.\"}}}\n"
     ]
    },
    {
     "name": "stdout",
     "output_type": "stream",
     "text": [
      "Could not find 2\n",
      "11\n",
      "Yes CR trying PM\n",
      "PM Works\n",
      "12\n"
     ]
    },
    {
     "name": "stderr",
     "output_type": "stream",
     "text": [
      "2022-08-17 10:32:25 CMI-RSCH-MBP058 elsapy.elsclient[73534] INFO Sending GET request to https://api.elsevier.com/content/article/doi/10.1016/j.bbe.2021.12.008\n"
     ]
    },
    {
     "name": "stdout",
     "output_type": "stream",
     "text": [
      "Yes CR trying PM\n"
     ]
    },
    {
     "name": "stderr",
     "output_type": "stream",
     "text": [
      "2022-08-17 10:32:25 CMI-RSCH-MBP058 elsapy.elsentity[73534] INFO Data loaded for https://api.elsevier.com/content/article/doi/10.1016/j.bbe.2021.12.008\n"
     ]
    },
    {
     "name": "stdout",
     "output_type": "stream",
     "text": [
      "Last resort\n",
      "13\n"
     ]
    },
    {
     "name": "stderr",
     "output_type": "stream",
     "text": [
      "2022-08-17 10:32:27 CMI-RSCH-MBP058 elsapy.elsclient[73534] INFO Sending GET request to https://api.elsevier.com/content/article/doi/10.1016/j.media.2021.102191\n"
     ]
    },
    {
     "name": "stdout",
     "output_type": "stream",
     "text": [
      "Yes CR trying PM\n"
     ]
    },
    {
     "name": "stderr",
     "output_type": "stream",
     "text": [
      "2022-08-17 10:32:27 CMI-RSCH-MBP058 elsapy.elsentity[73534] INFO Data loaded for https://api.elsevier.com/content/article/doi/10.1016/j.media.2021.102191\n"
     ]
    },
    {
     "name": "stdout",
     "output_type": "stream",
     "text": [
      "Last resort\n",
      "14\n"
     ]
    },
    {
     "name": "stderr",
     "output_type": "stream",
     "text": [
      "2022-08-17 10:32:32 CMI-RSCH-MBP058 elsapy.elsclient[73534] INFO Sending GET request to https://api.elsevier.com/content/article/doi/10.1109/tnnls.2020.3007943\n"
     ]
    },
    {
     "name": "stdout",
     "output_type": "stream",
     "text": [
      "Yes CR trying PM\n"
     ]
    },
    {
     "name": "stderr",
     "output_type": "stream",
     "text": [
      "2022-08-17 10:32:33 CMI-RSCH-MBP058 elsapy.elsentity[73534] WARNING HTTP 404 Error from https://api.elsevier.com/content/article/doi/10.1109/tnnls.2020.3007943\n",
      "and using headers {'X-ELS-APIKey': '1bb51d25ede064f38c932a4b2c6f53f5', 'User-Agent': 'elsapy-v0.5.0', 'Accept': 'application/json'}:\n",
      "{\"service-error\":{\"status\":{\"statusCode\":\"RESOURCE_NOT_FOUND\",\"statusText\":\"The resource specified cannot be found.\"}}}\n"
     ]
    },
    {
     "name": "stdout",
     "output_type": "stream",
     "text": [
      "Could not find 2\n",
      "15\n",
      "Yes CR trying PM\n"
     ]
    },
    {
     "name": "stderr",
     "output_type": "stream",
     "text": [
      "2022-08-17 10:32:34 CMI-RSCH-MBP058 elsapy.elsclient[73534] INFO Sending GET request to https://api.elsevier.com/content/article/doi/10.1016/j.bpsc.2020.08.008\n",
      "2022-08-17 10:32:34 CMI-RSCH-MBP058 elsapy.elsentity[73534] INFO Data loaded for https://api.elsevier.com/content/article/doi/10.1016/j.bpsc.2020.08.008\n"
     ]
    },
    {
     "name": "stdout",
     "output_type": "stream",
     "text": [
      "Last resort\n",
      "16\n"
     ]
    },
    {
     "name": "stderr",
     "output_type": "stream",
     "text": [
      "2022-08-17 10:32:37 CMI-RSCH-MBP058 elsapy.elsclient[73534] INFO Sending GET request to https://api.elsevier.com/content/article/doi/10.1016/b978-0-12-391924-3.00017-x\n"
     ]
    },
    {
     "name": "stdout",
     "output_type": "stream",
     "text": [
      "Yes CR trying PM\n"
     ]
    },
    {
     "name": "stderr",
     "output_type": "stream",
     "text": [
      "2022-08-17 10:32:37 CMI-RSCH-MBP058 elsapy.elsentity[73534] INFO Data loaded for https://api.elsevier.com/content/article/doi/10.1016/b978-0-12-391924-3.00017-x\n"
     ]
    },
    {
     "name": "stdout",
     "output_type": "stream",
     "text": [
      "Last resort\n",
      "17\n",
      "Yes CR trying PM\n",
      "PM Works\n",
      "18\n",
      "Yes CR trying PM\n"
     ]
    },
    {
     "name": "stderr",
     "output_type": "stream",
     "text": [
      "2022-08-17 10:32:42 CMI-RSCH-MBP058 elsapy.elsclient[73534] INFO Sending GET request to https://api.elsevier.com/content/article/doi/10.1016/j.biopsych.2021.02.385\n",
      "2022-08-17 10:32:42 CMI-RSCH-MBP058 elsapy.elsentity[73534] INFO Data loaded for https://api.elsevier.com/content/article/doi/10.1016/j.biopsych.2021.02.385\n"
     ]
    },
    {
     "name": "stdout",
     "output_type": "stream",
     "text": [
      "Last resort\n",
      "19\n"
     ]
    },
    {
     "name": "stderr",
     "output_type": "stream",
     "text": [
      "2022-08-17 10:32:43 CMI-RSCH-MBP058 elsapy.elsclient[73534] INFO Sending GET request to https://api.elsevier.com/content/article/doi/10.21091/mppa.2021.1005\n"
     ]
    },
    {
     "name": "stdout",
     "output_type": "stream",
     "text": [
      "Yes CR trying PM\n"
     ]
    },
    {
     "name": "stderr",
     "output_type": "stream",
     "text": [
      "2022-08-17 10:32:44 CMI-RSCH-MBP058 elsapy.elsentity[73534] WARNING HTTP 404 Error from https://api.elsevier.com/content/article/doi/10.21091/mppa.2021.1005\n",
      "and using headers {'X-ELS-APIKey': '1bb51d25ede064f38c932a4b2c6f53f5', 'User-Agent': 'elsapy-v0.5.0', 'Accept': 'application/json'}:\n",
      "{\"service-error\":{\"status\":{\"statusCode\":\"RESOURCE_NOT_FOUND\",\"statusText\":\"The resource specified cannot be found.\"}}}\n"
     ]
    },
    {
     "name": "stdout",
     "output_type": "stream",
     "text": [
      "Could not find 2\n",
      "20\n",
      "Yes CR trying PM\n",
      "PM Works\n",
      "21\n",
      "Yes CR trying PM\n",
      "PM Works\n",
      "22\n"
     ]
    },
    {
     "name": "stderr",
     "output_type": "stream",
     "text": [
      "2022-08-17 10:32:51 CMI-RSCH-MBP058 elsapy.elsclient[73534] INFO Sending GET request to https://api.elsevier.com/content/article/doi/10.1016/j.biopsych.2020.02.636\n"
     ]
    },
    {
     "name": "stdout",
     "output_type": "stream",
     "text": [
      "Yes CR trying PM\n"
     ]
    },
    {
     "name": "stderr",
     "output_type": "stream",
     "text": [
      "2022-08-17 10:32:52 CMI-RSCH-MBP058 elsapy.elsentity[73534] INFO Data loaded for https://api.elsevier.com/content/article/doi/10.1016/j.biopsych.2020.02.636\n"
     ]
    },
    {
     "name": "stdout",
     "output_type": "stream",
     "text": [
      "Last resort\n",
      "23\n"
     ]
    },
    {
     "name": "stderr",
     "output_type": "stream",
     "text": [
      "2022-08-17 10:32:53 CMI-RSCH-MBP058 elsapy.elsclient[73534] INFO Sending GET request to https://api.elsevier.com/content/article/doi/10.1007/s00330-019-06516-x\n"
     ]
    },
    {
     "name": "stdout",
     "output_type": "stream",
     "text": [
      "Yes CR trying PM\n"
     ]
    },
    {
     "name": "stderr",
     "output_type": "stream",
     "text": [
      "2022-08-17 10:32:53 CMI-RSCH-MBP058 elsapy.elsentity[73534] WARNING HTTP 404 Error from https://api.elsevier.com/content/article/doi/10.1007/s00330-019-06516-x\n",
      "and using headers {'X-ELS-APIKey': '1bb51d25ede064f38c932a4b2c6f53f5', 'User-Agent': 'elsapy-v0.5.0', 'Accept': 'application/json'}:\n",
      "{\"service-error\":{\"status\":{\"statusCode\":\"RESOURCE_NOT_FOUND\",\"statusText\":\"The resource specified cannot be found.\"}}}\n"
     ]
    },
    {
     "name": "stdout",
     "output_type": "stream",
     "text": [
      "Could not find 2\n",
      "24\n",
      "Yes CR trying PM\n",
      "PM Works\n",
      "25\n"
     ]
    },
    {
     "name": "stderr",
     "output_type": "stream",
     "text": [
      "2022-08-17 10:32:57 CMI-RSCH-MBP058 elsapy.elsclient[73534] INFO Sending GET request to https://api.elsevier.com/content/article/doi/10.1016/s1474-4422(21)00095-8\n"
     ]
    },
    {
     "name": "stdout",
     "output_type": "stream",
     "text": [
      "Yes CR trying PM\n"
     ]
    },
    {
     "name": "stderr",
     "output_type": "stream",
     "text": [
      "2022-08-17 10:32:58 CMI-RSCH-MBP058 elsapy.elsentity[73534] INFO Data loaded for https://api.elsevier.com/content/article/doi/10.1016/s1474-4422(21)00095-8\n"
     ]
    },
    {
     "name": "stdout",
     "output_type": "stream",
     "text": [
      "Last resort\n",
      "26\n",
      "Yes CR trying PM\n",
      "PM Works\n",
      "27\n"
     ]
    },
    {
     "name": "stderr",
     "output_type": "stream",
     "text": [
      "2022-08-17 10:33:05 CMI-RSCH-MBP058 elsapy.elsclient[73534] INFO Sending GET request to https://api.elsevier.com/content/article/doi/10.1177/1753193413496949\n"
     ]
    },
    {
     "name": "stdout",
     "output_type": "stream",
     "text": [
      "Yes CR trying PM\n"
     ]
    },
    {
     "name": "stderr",
     "output_type": "stream",
     "text": [
      "2022-08-17 10:33:05 CMI-RSCH-MBP058 elsapy.elsentity[73534] WARNING HTTP 404 Error from https://api.elsevier.com/content/article/doi/10.1177/1753193413496949\n",
      "and using headers {'X-ELS-APIKey': '1bb51d25ede064f38c932a4b2c6f53f5', 'User-Agent': 'elsapy-v0.5.0', 'Accept': 'application/json'}:\n",
      "{\"service-error\":{\"status\":{\"statusCode\":\"RESOURCE_NOT_FOUND\",\"statusText\":\"The resource specified cannot be found.\"}}}\n"
     ]
    },
    {
     "name": "stdout",
     "output_type": "stream",
     "text": [
      "Could not find 2\n",
      "28\n",
      "Yes CR trying PM\n",
      "PM Works\n",
      "29\n"
     ]
    },
    {
     "name": "stderr",
     "output_type": "stream",
     "text": [
      "2022-08-17 10:33:08 CMI-RSCH-MBP058 elsapy.elsclient[73534] INFO Sending GET request to https://api.elsevier.com/content/article/doi/10.1016/j.brainres.2021.147435\n"
     ]
    },
    {
     "name": "stdout",
     "output_type": "stream",
     "text": [
      "Yes CR trying PM\n"
     ]
    },
    {
     "name": "stderr",
     "output_type": "stream",
     "text": [
      "2022-08-17 10:33:08 CMI-RSCH-MBP058 elsapy.elsentity[73534] INFO Data loaded for https://api.elsevier.com/content/article/doi/10.1016/j.brainres.2021.147435\n"
     ]
    },
    {
     "name": "stdout",
     "output_type": "stream",
     "text": [
      "Last resort\n",
      "30\n",
      "Yes CR trying PM\n",
      "PM Works\n",
      "31\n"
     ]
    },
    {
     "name": "stderr",
     "output_type": "stream",
     "text": [
      "2022-08-17 10:33:10 CMI-RSCH-MBP058 elsapy.elsclient[73534] INFO Sending GET request to https://api.elsevier.com/content/article/doi/10.21091/mppa.2017.3025\n"
     ]
    },
    {
     "name": "stdout",
     "output_type": "stream",
     "text": [
      "Yes CR trying PM\n"
     ]
    },
    {
     "name": "stderr",
     "output_type": "stream",
     "text": [
      "2022-08-17 10:33:10 CMI-RSCH-MBP058 elsapy.elsentity[73534] WARNING HTTP 404 Error from https://api.elsevier.com/content/article/doi/10.21091/mppa.2017.3025\n",
      "and using headers {'X-ELS-APIKey': '1bb51d25ede064f38c932a4b2c6f53f5', 'User-Agent': 'elsapy-v0.5.0', 'Accept': 'application/json'}:\n",
      "{\"service-error\":{\"status\":{\"statusCode\":\"RESOURCE_NOT_FOUND\",\"statusText\":\"The resource specified cannot be found.\"}}}\n"
     ]
    },
    {
     "name": "stdout",
     "output_type": "stream",
     "text": [
      "Could not find 2\n",
      "32\n"
     ]
    },
    {
     "name": "stderr",
     "output_type": "stream",
     "text": [
      "2022-08-17 10:33:12 CMI-RSCH-MBP058 elsapy.elsclient[73534] INFO Sending GET request to https://api.elsevier.com/content/article/doi/10.1016/j.neuroimage.2019.116182\n"
     ]
    },
    {
     "name": "stdout",
     "output_type": "stream",
     "text": [
      "Yes CR trying PM\n"
     ]
    },
    {
     "name": "stderr",
     "output_type": "stream",
     "text": [
      "2022-08-17 10:33:13 CMI-RSCH-MBP058 elsapy.elsentity[73534] INFO Data loaded for https://api.elsevier.com/content/article/doi/10.1016/j.neuroimage.2019.116182\n"
     ]
    },
    {
     "name": "stdout",
     "output_type": "stream",
     "text": [
      "Last resort\n",
      "33\n",
      "Yes CR trying PM\n",
      "PM Works\n",
      "34\n"
     ]
    },
    {
     "name": "stderr",
     "output_type": "stream",
     "text": [
      "2022-08-17 10:33:17 CMI-RSCH-MBP058 elsapy.elsclient[73534] INFO Sending GET request to https://api.elsevier.com/content/article/doi/10.1136/jnnp-2020-325151\n"
     ]
    },
    {
     "name": "stdout",
     "output_type": "stream",
     "text": [
      "Yes CR trying PM\n"
     ]
    },
    {
     "name": "stderr",
     "output_type": "stream",
     "text": [
      "2022-08-17 10:33:17 CMI-RSCH-MBP058 elsapy.elsentity[73534] WARNING HTTP 404 Error from https://api.elsevier.com/content/article/doi/10.1136/jnnp-2020-325151\n",
      "and using headers {'X-ELS-APIKey': '1bb51d25ede064f38c932a4b2c6f53f5', 'User-Agent': 'elsapy-v0.5.0', 'Accept': 'application/json'}:\n",
      "{\"service-error\":{\"status\":{\"statusCode\":\"RESOURCE_NOT_FOUND\",\"statusText\":\"The resource specified cannot be found.\"}}}\n"
     ]
    },
    {
     "name": "stdout",
     "output_type": "stream",
     "text": [
      "Could not find 2\n",
      "35\n",
      "Yes CR trying PM\n",
      "PM Works\n",
      "36\n"
     ]
    },
    {
     "name": "stderr",
     "output_type": "stream",
     "text": [
      "2022-08-17 10:33:20 CMI-RSCH-MBP058 elsapy.elsclient[73534] INFO Sending GET request to https://api.elsevier.com/content/article/doi/10.21091/mppa.2019.3024\n"
     ]
    },
    {
     "name": "stdout",
     "output_type": "stream",
     "text": [
      "Yes CR trying PM\n"
     ]
    },
    {
     "name": "stderr",
     "output_type": "stream",
     "text": [
      "2022-08-17 10:33:21 CMI-RSCH-MBP058 elsapy.elsentity[73534] WARNING HTTP 404 Error from https://api.elsevier.com/content/article/doi/10.21091/mppa.2019.3024\n",
      "and using headers {'X-ELS-APIKey': '1bb51d25ede064f38c932a4b2c6f53f5', 'User-Agent': 'elsapy-v0.5.0', 'Accept': 'application/json'}:\n",
      "{\"service-error\":{\"status\":{\"statusCode\":\"RESOURCE_NOT_FOUND\",\"statusText\":\"The resource specified cannot be found.\"}}}\n"
     ]
    },
    {
     "name": "stdout",
     "output_type": "stream",
     "text": [
      "Could not find 2\n",
      "37\n",
      "Yes CR trying PM\n",
      "PM Works\n",
      "38\n",
      "Yes CR trying PM\n",
      "PM Works\n",
      "39\n"
     ]
    },
    {
     "name": "stderr",
     "output_type": "stream",
     "text": [
      "2022-08-17 10:33:25 CMI-RSCH-MBP058 elsapy.elsclient[73534] INFO Sending GET request to https://api.elsevier.com/content/article/doi/10.1007/s00381-017-3416-z\n"
     ]
    },
    {
     "name": "stdout",
     "output_type": "stream",
     "text": [
      "Yes CR trying PM\n"
     ]
    },
    {
     "name": "stderr",
     "output_type": "stream",
     "text": [
      "2022-08-17 10:33:25 CMI-RSCH-MBP058 elsapy.elsentity[73534] WARNING HTTP 404 Error from https://api.elsevier.com/content/article/doi/10.1007/s00381-017-3416-z\n",
      "and using headers {'X-ELS-APIKey': '1bb51d25ede064f38c932a4b2c6f53f5', 'User-Agent': 'elsapy-v0.5.0', 'Accept': 'application/json'}:\n",
      "{\"service-error\":{\"status\":{\"statusCode\":\"RESOURCE_NOT_FOUND\",\"statusText\":\"The resource specified cannot be found.\"}}}\n"
     ]
    },
    {
     "name": "stdout",
     "output_type": "stream",
     "text": [
      "Could not find 2\n",
      "40\n"
     ]
    },
    {
     "name": "stderr",
     "output_type": "stream",
     "text": [
      "2022-08-17 10:33:26 CMI-RSCH-MBP058 elsapy.elsclient[73534] INFO Sending GET request to https://api.elsevier.com/content/article/doi/10.5580/956\n"
     ]
    },
    {
     "name": "stdout",
     "output_type": "stream",
     "text": [
      "Yes CR trying PM\n"
     ]
    },
    {
     "name": "stderr",
     "output_type": "stream",
     "text": [
      "2022-08-17 10:33:26 CMI-RSCH-MBP058 elsapy.elsentity[73534] WARNING HTTP 404 Error from https://api.elsevier.com/content/article/doi/10.5580/956\n",
      "and using headers {'X-ELS-APIKey': '1bb51d25ede064f38c932a4b2c6f53f5', 'User-Agent': 'elsapy-v0.5.0', 'Accept': 'application/json'}:\n",
      "{\"service-error\":{\"status\":{\"statusCode\":\"RESOURCE_NOT_FOUND\",\"statusText\":\"The resource specified cannot be found.\"}}}\n"
     ]
    },
    {
     "name": "stdout",
     "output_type": "stream",
     "text": [
      "Could not find 2\n",
      "41\n"
     ]
    },
    {
     "name": "stderr",
     "output_type": "stream",
     "text": [
      "2022-08-17 10:33:28 CMI-RSCH-MBP058 elsapy.elsclient[73534] INFO Sending GET request to https://api.elsevier.com/content/article/doi/10.1016/j.rehab.2015.06.002\n"
     ]
    },
    {
     "name": "stdout",
     "output_type": "stream",
     "text": [
      "Yes CR trying PM\n"
     ]
    },
    {
     "name": "stderr",
     "output_type": "stream",
     "text": [
      "2022-08-17 10:33:28 CMI-RSCH-MBP058 elsapy.elsentity[73534] INFO Data loaded for https://api.elsevier.com/content/article/doi/10.1016/j.rehab.2015.06.002\n"
     ]
    },
    {
     "name": "stdout",
     "output_type": "stream",
     "text": [
      "Last resort\n",
      "42\n",
      "Yes CR trying PM\n",
      "PM Works\n",
      "43\n",
      "Yes CR trying PM\n",
      "PM Works\n",
      "44\n",
      "Yes CR trying PM\n",
      "PM Works\n",
      "45\n",
      "Yes CR trying PM\n",
      "PM Works\n",
      "46\n",
      "Yes CR trying PM\n",
      "PM Works\n",
      "47\n"
     ]
    },
    {
     "name": "stderr",
     "output_type": "stream",
     "text": [
      "2022-08-17 10:33:44 CMI-RSCH-MBP058 elsapy.elsclient[73534] INFO Sending GET request to https://api.elsevier.com/content/article/doi/10.1136/jnnp-2019-322369\n"
     ]
    },
    {
     "name": "stdout",
     "output_type": "stream",
     "text": [
      "Yes CR trying PM\n"
     ]
    },
    {
     "name": "stderr",
     "output_type": "stream",
     "text": [
      "2022-08-17 10:33:44 CMI-RSCH-MBP058 elsapy.elsentity[73534] WARNING HTTP 404 Error from https://api.elsevier.com/content/article/doi/10.1136/jnnp-2019-322369\n",
      "and using headers {'X-ELS-APIKey': '1bb51d25ede064f38c932a4b2c6f53f5', 'User-Agent': 'elsapy-v0.5.0', 'Accept': 'application/json'}:\n",
      "{\"service-error\":{\"status\":{\"statusCode\":\"RESOURCE_NOT_FOUND\",\"statusText\":\"The resource specified cannot be found.\"}}}\n"
     ]
    },
    {
     "name": "stdout",
     "output_type": "stream",
     "text": [
      "Could not find 2\n",
      "48\n"
     ]
    },
    {
     "name": "stderr",
     "output_type": "stream",
     "text": [
      "2022-08-17 10:33:45 CMI-RSCH-MBP058 elsapy.elsclient[73534] INFO Sending GET request to https://api.elsevier.com/content/article/doi/10.1002/aur.2058\n"
     ]
    },
    {
     "name": "stdout",
     "output_type": "stream",
     "text": [
      "Yes CR trying PM\n"
     ]
    },
    {
     "name": "stderr",
     "output_type": "stream",
     "text": [
      "2022-08-17 10:33:45 CMI-RSCH-MBP058 elsapy.elsentity[73534] WARNING HTTP 404 Error from https://api.elsevier.com/content/article/doi/10.1002/aur.2058\n",
      "and using headers {'X-ELS-APIKey': '1bb51d25ede064f38c932a4b2c6f53f5', 'User-Agent': 'elsapy-v0.5.0', 'Accept': 'application/json'}:\n",
      "{\"service-error\":{\"status\":{\"statusCode\":\"RESOURCE_NOT_FOUND\",\"statusText\":\"The resource specified cannot be found.\"}}}\n"
     ]
    },
    {
     "name": "stdout",
     "output_type": "stream",
     "text": [
      "Could not find 2\n",
      "49\n",
      "Yes CR trying PM\n",
      "PM Works\n"
     ]
    }
   ],
   "source": [
    "count = 0\n",
    "for pmid in pmids:\n",
    "    print(count)\n",
    "    if pmid != 0.0:\n",
    "        try:\n",
    "            article = PM.article_by_pmid(pmid)\n",
    "            tag = \"PM\"\n",
    "            print('Yes PM')\n",
    "        except:\n",
    "            try:\n",
    "                article = cr.article_by_title(title[count])\n",
    "                tag = \"CR\"\n",
    "                print('Yes CR')\n",
    "            except:\n",
    "                count = count + 1\n",
    "                data.Notes[count] = \"Failed\"\n",
    "                tag = \"Failed\"\n",
    "                print('Could not find 1')\n",
    "    else:\n",
    "        try:\n",
    "            article = cr.article_by_title(title[count])\n",
    "            print('Yes CR trying PM')\n",
    "            try:\n",
    "                article = PM.article_by_doi(article.doi)\n",
    "                tag = \"PM\"\n",
    "                print('PM Works')\n",
    "            except:\n",
    "                doi_doc = FullDoc(doi=article.doi)\n",
    "                doi_doc.read(client)\n",
    "                if doi_doc.data is None:\n",
    "                    data.Notes[count] = \"Failed\"\n",
    "                    print('Could not find 2')\n",
    "                    tag = \"Failed\"\n",
    "                else:\n",
    "                    tag = \"EL\"\n",
    "                    print(\"Last resort\")\n",
    "        except:\n",
    "            count = count + 1\n",
    "            data.Notes[count] = \"Failed\"\n",
    "            print(\"Could not find 3\")   \n",
    "    data.URL[count] = article.doi\n",
    "    data.Notes[count] = article.title\n",
    "    data.Tag[count] = tag\n",
    "    if tag == \"PM\":\n",
    "        if 'Review' in article.publication_types.values():\n",
    "            data.Publication_Type[count] = 'Review'\n",
    "        elif 'Editorial' in article.publication_types.values():\n",
    "            data.Publication_Type[count] = 'Editorial'\n",
    "        elif 'Case Reports' in article.publication_types.values():\n",
    "            data.Publication_Type[count] = 'Case Report'\n",
    "        elif 'Journal Article' in article.publication_types.values():\n",
    "            data.Publication_Type[count] = 'Journal Article'\n",
    "        else:\n",
    "            data.Publication_Type[count] = str(article.publication_types.values())\n",
    "        if article.title is None:\n",
    "            data.Autism_title[count] = -99.0\n",
    "            data.ASD_title[count] = -99.0\n",
    "            data.Autism_Spectrum_Disorder_title[count] = -99.0\n",
    "            data.ABIDE_title[count] = -99.0\n",
    "            data.Autism_Brain_Imaging_Data_Exchange_title[count] = -99.0\n",
    "        else:\n",
    "            data.Autism_title[count] = article.title.lower().find('autism')\n",
    "            data.ASD_title[count] = article.title.find('ASD')\n",
    "            data.Autism_Spectrum_Disorder_title[count] = article.title.lower().find('autism spectrum disorder')\n",
    "            data.ABIDE_title[count] = article.title.find('ABIDE')\n",
    "            data.Autism_Brain_Imaging_Data_Exchange_title[count] = article.title.lower().find('autism brain imaging data exchange')\n",
    "        if article.abstract is None:\n",
    "            data.Autism_abstract[count] = -99.0\n",
    "            data.ASD_abstract[count] = -99.0\n",
    "            data.Autism_Spectrum_Disorder_abstract[count] = -99.0\n",
    "            data.ABIDE_abstract[count] = -99.0\n",
    "            data.Autism_Brain_Imaging_Data_Exchange_abstract[count] = -99.0\n",
    "        else:\n",
    "            data.Autism_abstract[count] = article.abstract.lower().find('autism')\n",
    "            data.ASD_abstract[count] = article.abstract.find('ASD')\n",
    "            data.Autism_Spectrum_Disorder_abstract[count] = article.abstract.lower().find('autism spectrum disorder')\n",
    "            data.ABIDE_abstract[count] = article.abstract.find('ABIDE')\n",
    "            data.Autism_Brain_Imaging_Data_Exchange_abstract[count] = article.abstract.lower().find('autism brain imaging data exchange')\n",
    "        data.Medline_PMID[count] = article.pmid\n",
    "    if tag == \"CR\":\n",
    "        if str(article.reference).find('Di Martino') != -1:\n",
    "            data.Citation[count] = \"Yes\"\n",
    "        if article.title is None:\n",
    "            data.Autism_title[count] = -99.0\n",
    "            data.ASD_title[count] = -99.0\n",
    "            data.Autism_Spectrum_Disorder_title[count] = -99.0\n",
    "            data.ABIDE_title[count] = -99.0\n",
    "            data.Autism_Brain_Imaging_Data_Exchange_title[count] = -99.0\n",
    "        else:\n",
    "            data.Autism_title[count] = str(article.title).lower().find('autism')\n",
    "            data.ASD_title[count] = str(article.title).find('ASD')\n",
    "            data.Autism_Spectrum_Disorder_title[count] = str(article.title).lower().find('autism spectrum disorder')\n",
    "            data.ABIDE_title[count] = str(article.title).find('ABIDE')\n",
    "            data.Autism_Brain_Imaging_Data_Exchange_title[count] = str(article.title).lower().find('autism brain imaging data exchange')\n",
    "    elif tag == \"EL\":\n",
    "        if doi_doc.data is None:\n",
    "            count = count + 1\n",
    "        else:\n",
    "            data.Publication_Type[count] = doi_doc.data['coredata']['prism:aggregationType']\n",
    "            data.Notes[count] = doi_doc.data['coredata']['dc:title']\n",
    "\n",
    "            if doi_doc.data['coredata']['dc:title'] is None:\n",
    "                data.Autism_title[count] = -99.0\n",
    "                data.ASD_title[count] = -99.0\n",
    "                data.Autism_Spectrum_Disorder_title[count] = -99.0\n",
    "                data.ABIDE_title[count] = -99.0\n",
    "                data.Autism_Brain_Imaging_Data_Exchange_title[count] = -99.0\n",
    "            else:\n",
    "                data.Autism_title[count] = doi_doc.data['coredata']['dc:title'].lower().find('autism')\n",
    "                data.ASD_title[count] = doi_doc.data['coredata']['dc:title'].find('ASD')\n",
    "                data.Autism_Spectrum_Disorder_title[count] = doi_doc.data['coredata']['dc:title'].lower().find('autism spectrum disorder')\n",
    "                data.ABIDE_title[count] = doi_doc.data['coredata']['dc:title'].find('ABIDE')\n",
    "                data.Autism_Brain_Imaging_Data_Exchange_title[count] = doi_doc.data['coredata']['dc:title'].lower().find('autism brain imaging data exchange')\n",
    "\n",
    "            if doi_doc.data['coredata']['dc:description'] is None:\n",
    "                data.Autism_abstract[count] = -99.0\n",
    "                data.ASD_abstract[count] = -99.0\n",
    "                data.Autism_Spectrum_Disorder_abstract[count] = -99.0\n",
    "                data.ABIDE_abstract[count] = -99.0\n",
    "                data.Autism_Brain_Imaging_Data_Exchange_abstract[count] = -99.0\n",
    "            else:\n",
    "                data.Autism_abstract[count] = doi_doc.data['coredata']['dc:description'].lower().find('autism')\n",
    "                data.ASD_abstract[count] = doi_doc.data['coredata']['dc:description'].find('ASD')\n",
    "                data.Autism_Spectrum_Disorder_abstract[count] = doi_doc.data['coredata']['dc:description'].lower().find('autism spectrum disorder')\n",
    "                data.ABIDE_abstract[count] = doi_doc.data['coredata']['dc:description'].find('ABIDE')\n",
    "                data.Autism_Brain_Imaging_Data_Exchange_abstract[count] = doi_doc.data['coredata']['dc:description'].lower().find('autism brain imaging data exchange')\n",
    "    count = count + 1\n",
    "    data.to_csv('Concensus_Results_8_17_22.csv')  "
   ]
  },
  {
   "cell_type": "code",
   "execution_count": 8,
   "id": "8a03ba04-3a00-45c1-b5ba-62b05fe5c17a",
   "metadata": {},
   "outputs": [
    {
     "data": {
      "text/plain": [
       "2495"
      ]
     },
     "execution_count": 8,
     "metadata": {},
     "output_type": "execute_result"
    }
   ],
   "source": [
    "count"
   ]
  },
  {
   "cell_type": "code",
   "execution_count": 6,
   "id": "25bf906b-e72a-4b94-b2ef-b853360d1a28",
   "metadata": {},
   "outputs": [
    {
     "data": {
      "text/plain": [
       "\"Transcatheter Closure of a Secundum Atrial Septal Defect with Deficient Aortic Rim Through the Left Internal Jugular Vein in a Child with Situs Inversus and Interrupted Inferior Vena Cava: Device's Choice Matters\""
      ]
     },
     "execution_count": 6,
     "metadata": {},
     "output_type": "execute_result"
    }
   ],
   "source": []
  },
  {
   "cell_type": "code",
   "execution_count": null,
   "id": "1face491-3a39-47fb-8aab-c539dc5c1817",
   "metadata": {},
   "outputs": [],
   "source": []
  }
 ],
 "metadata": {
  "kernelspec": {
   "display_name": "Python 3",
   "language": "python",
   "name": "python3"
  },
  "language_info": {
   "codemirror_mode": {
    "name": "ipython",
    "version": 3
   },
   "file_extension": ".py",
   "mimetype": "text/x-python",
   "name": "python",
   "nbconvert_exporter": "python",
   "pygments_lexer": "ipython3",
   "version": "3.8.8"
  }
 },
 "nbformat": 4,
 "nbformat_minor": 5
}
